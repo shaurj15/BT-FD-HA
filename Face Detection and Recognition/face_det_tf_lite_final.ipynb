{
  "nbformat": 4,
  "nbformat_minor": 0,
  "metadata": {
    "colab": {
      "provenance": []
    },
    "kernelspec": {
      "name": "python3",
      "display_name": "Python 3"
    },
    "language_info": {
      "name": "python"
    }
  },
  "cells": [
    {
      "cell_type": "code",
      "execution_count": null,
      "metadata": {
        "colab": {
          "base_uri": "https://localhost:8080/"
        },
        "id": "35BJmtVpAP_n",
        "outputId": "e2bb9eda-338a-4612-a0ea-419d3ee8d726"
      },
      "outputs": [
        {
          "output_type": "stream",
          "name": "stdout",
          "text": [
            "\u001b[2K     \u001b[90m━━━━━━━━━━━━━━━━━━━━━━━━━━━━━━━━━━━━━━\u001b[0m \u001b[32m577.8/577.8 kB\u001b[0m \u001b[31m11.5 MB/s\u001b[0m eta \u001b[36m0:00:00\u001b[0m\n",
            "\u001b[2K     \u001b[90m━━━━━━━━━━━━━━━━━━━━━━━━━━━━━━━━━━━━━━━━\u001b[0m \u001b[32m60.9/60.9 MB\u001b[0m \u001b[31m6.2 MB/s\u001b[0m eta \u001b[36m0:00:00\u001b[0m\n",
            "\u001b[2K     \u001b[90m━━━━━━━━━━━━━━━━━━━━━━━━━━━━━━━━━━━━━━\u001b[0m \u001b[32m591.5/591.5 kB\u001b[0m \u001b[31m29.6 MB/s\u001b[0m eta \u001b[36m0:00:00\u001b[0m\n",
            "\u001b[?25h"
          ]
        }
      ],
      "source": [
        "!pip install -q tflite-model-maker-nightly\n",
        "!pip install -q tflite-support"
      ]
    },
    {
      "cell_type": "code",
      "source": [
        "import numpy as np\n",
        "import os\n",
        "\n",
        "from tflite_model_maker.config import ExportFormat, QuantizationConfig\n",
        "from tflite_model_maker import model_spec\n",
        "from tflite_model_maker import object_detector\n",
        "\n",
        "from tflite_support import metadata\n",
        "\n",
        "import tensorflow as tf\n",
        "assert tf.__version__.startswith('2')\n",
        "\n",
        "tf.get_logger().setLevel('ERROR')\n",
        "from absl import logging\n",
        "logging.set_verbosity(logging.ERROR)"
      ],
      "metadata": {
        "id": "6l8knRtR676v"
      },
      "execution_count": null,
      "outputs": []
    },
    {
      "cell_type": "code",
      "source": [
        "!unzip -q tensor_data.zip"
      ],
      "metadata": {
        "id": "ZwSnQTXa6-9X"
      },
      "execution_count": null,
      "outputs": []
    },
    {
      "cell_type": "code",
      "source": [
        "train_data = object_detector.DataLoader.from_pascal_voc(\n",
        "    'train',\n",
        "    'train',\n",
        "    ['Shaurya']\n",
        ")\n",
        "\n",
        "val_data = object_detector.DataLoader.from_pascal_voc(\n",
        "    'validate',\n",
        "    'validate',\n",
        "    ['Shaurya']\n",
        ")"
      ],
      "metadata": {
        "id": "dcKAukPB76eO"
      },
      "execution_count": null,
      "outputs": []
    },
    {
      "cell_type": "code",
      "source": [
        "spec = model_spec.get('efficientdet_lite0')"
      ],
      "metadata": {
        "id": "W8VRwjFL8LfZ"
      },
      "execution_count": null,
      "outputs": []
    },
    {
      "cell_type": "code",
      "source": [
        "model = object_detector.create(train_data, model_spec=spec, batch_size=4, train_whole_model=True, epochs=20, validation_data=val_data)"
      ],
      "metadata": {
        "colab": {
          "base_uri": "https://localhost:8080/"
        },
        "id": "jKi5EPtL8NGK",
        "outputId": "eccf2f8e-a033-4236-bf12-90b951a5c83d"
      },
      "execution_count": null,
      "outputs": [
        {
          "output_type": "stream",
          "name": "stdout",
          "text": [
            "Epoch 1/20\n",
            "7/7 [==============================] - 73s 4s/step - det_loss: 1.7179 - cls_loss: 1.1302 - box_loss: 0.0118 - reg_l2_loss: 0.0630 - loss: 1.7809 - learning_rate: 0.0066 - gradient_norm: 2.5534 - val_det_loss: 1.6719 - val_cls_loss: 1.1184 - val_box_loss: 0.0111 - val_reg_l2_loss: 0.0630 - val_loss: 1.7349\n",
            "Epoch 2/20\n",
            "7/7 [==============================] - 22s 3s/step - det_loss: 1.6352 - cls_loss: 1.0971 - box_loss: 0.0108 - reg_l2_loss: 0.0630 - loss: 1.6982 - learning_rate: 0.0049 - gradient_norm: 2.3485 - val_det_loss: 1.5283 - val_cls_loss: 1.0614 - val_box_loss: 0.0093 - val_reg_l2_loss: 0.0630 - val_loss: 1.5912\n",
            "Epoch 3/20\n",
            "7/7 [==============================] - 22s 3s/step - det_loss: 1.4937 - cls_loss: 1.0332 - box_loss: 0.0092 - reg_l2_loss: 0.0630 - loss: 1.5567 - learning_rate: 0.0048 - gradient_norm: 2.5496 - val_det_loss: 1.3975 - val_cls_loss: 0.9725 - val_box_loss: 0.0085 - val_reg_l2_loss: 0.0630 - val_loss: 1.4605\n",
            "Epoch 4/20\n",
            "7/7 [==============================] - 23s 4s/step - det_loss: 1.4454 - cls_loss: 0.9633 - box_loss: 0.0096 - reg_l2_loss: 0.0630 - loss: 1.5083 - learning_rate: 0.0046 - gradient_norm: 2.3202 - val_det_loss: 1.1570 - val_cls_loss: 0.7796 - val_box_loss: 0.0075 - val_reg_l2_loss: 0.0630 - val_loss: 1.2199\n",
            "Epoch 5/20\n",
            "7/7 [==============================] - 35s 5s/step - det_loss: 1.2358 - cls_loss: 0.8262 - box_loss: 0.0082 - reg_l2_loss: 0.0630 - loss: 1.2988 - learning_rate: 0.0043 - gradient_norm: 2.9543 - val_det_loss: 0.9505 - val_cls_loss: 0.6134 - val_box_loss: 0.0067 - val_reg_l2_loss: 0.0630 - val_loss: 1.0135\n",
            "Epoch 6/20\n",
            "7/7 [==============================] - 23s 3s/step - det_loss: 1.0350 - cls_loss: 0.6621 - box_loss: 0.0075 - reg_l2_loss: 0.0630 - loss: 1.0980 - learning_rate: 0.0040 - gradient_norm: 4.1631 - val_det_loss: 1.0441 - val_cls_loss: 0.7320 - val_box_loss: 0.0062 - val_reg_l2_loss: 0.0630 - val_loss: 1.1071\n",
            "Epoch 7/20\n",
            "7/7 [==============================] - 26s 4s/step - det_loss: 0.9023 - cls_loss: 0.5530 - box_loss: 0.0070 - reg_l2_loss: 0.0630 - loss: 0.9653 - learning_rate: 0.0037 - gradient_norm: 3.1207 - val_det_loss: 0.8183 - val_cls_loss: 0.5340 - val_box_loss: 0.0057 - val_reg_l2_loss: 0.0630 - val_loss: 0.8813\n",
            "Epoch 8/20\n",
            "7/7 [==============================] - 23s 3s/step - det_loss: 0.8315 - cls_loss: 0.4978 - box_loss: 0.0067 - reg_l2_loss: 0.0630 - loss: 0.8945 - learning_rate: 0.0033 - gradient_norm: 3.0487 - val_det_loss: 0.8180 - val_cls_loss: 0.5438 - val_box_loss: 0.0055 - val_reg_l2_loss: 0.0630 - val_loss: 0.8810\n",
            "Epoch 9/20\n",
            "7/7 [==============================] - 24s 3s/step - det_loss: 0.7810 - cls_loss: 0.4390 - box_loss: 0.0068 - reg_l2_loss: 0.0630 - loss: 0.8440 - learning_rate: 0.0029 - gradient_norm: 2.9188 - val_det_loss: 0.7334 - val_cls_loss: 0.4919 - val_box_loss: 0.0048 - val_reg_l2_loss: 0.0630 - val_loss: 0.7964\n",
            "Epoch 10/20\n",
            "7/7 [==============================] - 25s 4s/step - det_loss: 0.8507 - cls_loss: 0.5214 - box_loss: 0.0066 - reg_l2_loss: 0.0630 - loss: 0.9137 - learning_rate: 0.0025 - gradient_norm: 3.2840 - val_det_loss: 0.5994 - val_cls_loss: 0.3685 - val_box_loss: 0.0046 - val_reg_l2_loss: 0.0630 - val_loss: 0.6624\n",
            "Epoch 11/20\n",
            "7/7 [==============================] - 23s 3s/step - det_loss: 0.6942 - cls_loss: 0.3990 - box_loss: 0.0059 - reg_l2_loss: 0.0630 - loss: 0.7572 - learning_rate: 0.0021 - gradient_norm: 3.1180 - val_det_loss: 0.5396 - val_cls_loss: 0.3165 - val_box_loss: 0.0045 - val_reg_l2_loss: 0.0630 - val_loss: 0.6026\n",
            "Epoch 12/20\n",
            "7/7 [==============================] - 21s 3s/step - det_loss: 0.6153 - cls_loss: 0.3416 - box_loss: 0.0055 - reg_l2_loss: 0.0630 - loss: 0.6783 - learning_rate: 0.0017 - gradient_norm: 2.7223 - val_det_loss: 0.5072 - val_cls_loss: 0.2931 - val_box_loss: 0.0043 - val_reg_l2_loss: 0.0630 - val_loss: 0.5702\n",
            "Epoch 13/20\n",
            "7/7 [==============================] - 22s 3s/step - det_loss: 0.7158 - cls_loss: 0.4004 - box_loss: 0.0063 - reg_l2_loss: 0.0630 - loss: 0.7788 - learning_rate: 0.0013 - gradient_norm: 2.8765 - val_det_loss: 0.5268 - val_cls_loss: 0.3151 - val_box_loss: 0.0042 - val_reg_l2_loss: 0.0630 - val_loss: 0.5898\n",
            "Epoch 14/20\n",
            "7/7 [==============================] - 22s 3s/step - det_loss: 0.6471 - cls_loss: 0.3648 - box_loss: 0.0056 - reg_l2_loss: 0.0630 - loss: 0.7101 - learning_rate: 9.7221e-04 - gradient_norm: 2.7451 - val_det_loss: 0.5277 - val_cls_loss: 0.3185 - val_box_loss: 0.0042 - val_reg_l2_loss: 0.0630 - val_loss: 0.5907\n",
            "Epoch 15/20\n",
            "7/7 [==============================] - 28s 4s/step - det_loss: 0.5112 - cls_loss: 0.2842 - box_loss: 0.0045 - reg_l2_loss: 0.0630 - loss: 0.5742 - learning_rate: 6.6799e-04 - gradient_norm: 2.5114 - val_det_loss: 0.4828 - val_cls_loss: 0.2854 - val_box_loss: 0.0039 - val_reg_l2_loss: 0.0630 - val_loss: 0.5458\n",
            "Epoch 16/20\n",
            "7/7 [==============================] - 23s 3s/step - det_loss: 0.5397 - cls_loss: 0.2953 - box_loss: 0.0049 - reg_l2_loss: 0.0630 - loss: 0.6027 - learning_rate: 4.1374e-04 - gradient_norm: 2.5235 - val_det_loss: 0.4501 - val_cls_loss: 0.2594 - val_box_loss: 0.0038 - val_reg_l2_loss: 0.0630 - val_loss: 0.5131\n",
            "Epoch 17/20\n",
            "7/7 [==============================] - 22s 3s/step - det_loss: 0.5638 - cls_loss: 0.3377 - box_loss: 0.0045 - reg_l2_loss: 0.0630 - loss: 0.6268 - learning_rate: 2.1640e-04 - gradient_norm: 2.4532 - val_det_loss: 0.4318 - val_cls_loss: 0.2446 - val_box_loss: 0.0037 - val_reg_l2_loss: 0.0630 - val_loss: 0.4948\n",
            "Epoch 18/20\n",
            "7/7 [==============================] - 23s 3s/step - det_loss: 0.5809 - cls_loss: 0.3273 - box_loss: 0.0051 - reg_l2_loss: 0.0630 - loss: 0.6439 - learning_rate: 8.1348e-05 - gradient_norm: 2.1422 - val_det_loss: 0.4229 - val_cls_loss: 0.2375 - val_box_loss: 0.0037 - val_reg_l2_loss: 0.0630 - val_loss: 0.4859\n",
            "Epoch 19/20\n",
            "7/7 [==============================] - 23s 3s/step - det_loss: 0.5582 - cls_loss: 0.3161 - box_loss: 0.0048 - reg_l2_loss: 0.0630 - loss: 0.6212 - learning_rate: 1.2273e-05 - gradient_norm: 2.6158 - val_det_loss: 0.4200 - val_cls_loss: 0.2353 - val_box_loss: 0.0037 - val_reg_l2_loss: 0.0630 - val_loss: 0.4831\n",
            "Epoch 20/20\n",
            "7/7 [==============================] - 26s 4s/step - det_loss: 0.6192 - cls_loss: 0.3788 - box_loss: 0.0048 - reg_l2_loss: 0.0630 - loss: 0.6822 - learning_rate: 1.1057e-05 - gradient_norm: 2.6828 - val_det_loss: 0.4221 - val_cls_loss: 0.2372 - val_box_loss: 0.0037 - val_reg_l2_loss: 0.0630 - val_loss: 0.4851\n"
          ]
        }
      ]
    },
    {
      "cell_type": "code",
      "source": [
        "model.evaluate(val_data)"
      ],
      "metadata": {
        "colab": {
          "base_uri": "https://localhost:8080/"
        },
        "id": "d4ricYYG-oJX",
        "outputId": "94aad43a-9b8e-4a23-8014-864da9b06c08"
      },
      "execution_count": null,
      "outputs": [
        {
          "output_type": "stream",
          "name": "stdout",
          "text": [
            "\r1/1 [==============================] - 5s 5s/step\n",
            "\n"
          ]
        },
        {
          "output_type": "execute_result",
          "data": {
            "text/plain": [
              "{'AP': 0.68963933,\n",
              " 'AP50': 1.0,\n",
              " 'AP75': 1.0,\n",
              " 'APs': -1.0,\n",
              " 'APm': -1.0,\n",
              " 'APl': 0.68963933,\n",
              " 'ARmax1': 0.7,\n",
              " 'ARmax10': 0.725,\n",
              " 'ARmax100': 0.725,\n",
              " 'ARs': -1.0,\n",
              " 'ARm': -1.0,\n",
              " 'ARl': 0.725,\n",
              " 'AP_/Shaurya': 0.68963933}"
            ]
          },
          "metadata": {},
          "execution_count": 12
        }
      ]
    },
    {
      "cell_type": "code",
      "source": [
        "model.export(export_dir='.', tflite_filename='custom_detection_model.tflite')"
      ],
      "metadata": {
        "id": "kCVKOTLn-yRB"
      },
      "execution_count": null,
      "outputs": []
    },
    {
      "cell_type": "code",
      "source": [
        "model.evaluate_tflite('custom_detection_model.tflite', val_data)"
      ],
      "metadata": {
        "colab": {
          "base_uri": "https://localhost:8080/"
        },
        "id": "I9zsgSgA_MtI",
        "outputId": "e3cc9780-1b58-4f2b-bc22-4f92896780ee"
      },
      "execution_count": null,
      "outputs": [
        {
          "output_type": "stream",
          "name": "stdout",
          "text": [
            "4/4 [==============================] - 16s 4s/step\n",
            "\n"
          ]
        },
        {
          "output_type": "execute_result",
          "data": {
            "text/plain": [
              "{'AP': 0.675495,\n",
              " 'AP50': 1.0,\n",
              " 'AP75': 1.0,\n",
              " 'APs': -1.0,\n",
              " 'APm': -1.0,\n",
              " 'APl': 0.675495,\n",
              " 'ARmax1': 0.7,\n",
              " 'ARmax10': 0.7,\n",
              " 'ARmax100': 0.7,\n",
              " 'ARs': -1.0,\n",
              " 'ARm': -1.0,\n",
              " 'ARl': 0.7,\n",
              " 'AP_/Shaurya': 0.675495}"
            ]
          },
          "metadata": {},
          "execution_count": 14
        }
      ]
    },
    {
      "cell_type": "code",
      "source": [
        "# Download the TFLite model to your local computer.\n",
        "from google.colab import files\n",
        "files.download('custom_detection_model.tflite')"
      ],
      "metadata": {
        "colab": {
          "base_uri": "https://localhost:8080/",
          "height": 17
        },
        "id": "qyhvQJar_YMf",
        "outputId": "9733ae48-043e-4fd5-c2f7-e1e24d4701df"
      },
      "execution_count": null,
      "outputs": [
        {
          "output_type": "display_data",
          "data": {
            "text/plain": [
              "<IPython.core.display.Javascript object>"
            ],
            "application/javascript": [
              "\n",
              "    async function download(id, filename, size) {\n",
              "      if (!google.colab.kernel.accessAllowed) {\n",
              "        return;\n",
              "      }\n",
              "      const div = document.createElement('div');\n",
              "      const label = document.createElement('label');\n",
              "      label.textContent = `Downloading \"${filename}\": `;\n",
              "      div.appendChild(label);\n",
              "      const progress = document.createElement('progress');\n",
              "      progress.max = size;\n",
              "      div.appendChild(progress);\n",
              "      document.body.appendChild(div);\n",
              "\n",
              "      const buffers = [];\n",
              "      let downloaded = 0;\n",
              "\n",
              "      const channel = await google.colab.kernel.comms.open(id);\n",
              "      // Send a message to notify the kernel that we're ready.\n",
              "      channel.send({})\n",
              "\n",
              "      for await (const message of channel.messages) {\n",
              "        // Send a message to notify the kernel that we're ready.\n",
              "        channel.send({})\n",
              "        if (message.buffers) {\n",
              "          for (const buffer of message.buffers) {\n",
              "            buffers.push(buffer);\n",
              "            downloaded += buffer.byteLength;\n",
              "            progress.value = downloaded;\n",
              "          }\n",
              "        }\n",
              "      }\n",
              "      const blob = new Blob(buffers, {type: 'application/binary'});\n",
              "      const a = document.createElement('a');\n",
              "      a.href = window.URL.createObjectURL(blob);\n",
              "      a.download = filename;\n",
              "      div.appendChild(a);\n",
              "      a.click();\n",
              "      div.remove();\n",
              "    }\n",
              "  "
            ]
          },
          "metadata": {}
        },
        {
          "output_type": "display_data",
          "data": {
            "text/plain": [
              "<IPython.core.display.Javascript object>"
            ],
            "application/javascript": [
              "download(\"download_d5d9c64e-1b2b-4c49-83c2-20f62f6bb162\", \"custom_detection_model.tflite\", 4444718)"
            ]
          },
          "metadata": {}
        }
      ]
    }
  ]
}